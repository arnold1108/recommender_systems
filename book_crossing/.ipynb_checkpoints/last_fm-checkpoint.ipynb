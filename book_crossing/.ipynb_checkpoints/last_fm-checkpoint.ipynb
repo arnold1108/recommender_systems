{
 "cells": [
  {
   "cell_type": "markdown",
   "metadata": {},
   "source": [
    "# Books Recommendations with Collaborative Filtering and Cosine Distance"
   ]
  },
  {
   "cell_type": "markdown",
   "metadata": {},
   "source": [
    "## The Data"
   ]
  },
  {
   "cell_type": "markdown",
   "metadata": {},
   "source": [
    "In this project, [Book-Crossing](http://www2.informatik.uni-freiburg.de/~cziegler/BX/) data was used to build an item based collaborative filtering books recommender system. "
   ]
  },
  {
   "cell_type": "markdown",
   "metadata": {},
   "source": [
    "### Metadata\n",
    "The data contains three tables; the users info, ratings and books info. It contains 1.1 million ratings of 270,000 books by 90,000 users. \n",
    "The ratings data set provides a list of ratings that users have given to books. It includes 1,149,780 records and 3 fields: userID, ISBN, and bookRating. The ratings are on a scale from 1 to 10. "
   ]
  },
  {
   "cell_type": "markdown",
   "metadata": {},
   "source": [
    "### Importing the necessary libraries"
   ]
  },
  {
   "cell_type": "code",
   "execution_count": 1,
   "metadata": {},
   "outputs": [],
   "source": [
    "import pandas as pd"
   ]
  },
  {
   "cell_type": "markdown",
   "metadata": {},
   "source": [
    "### Loading the dataset "
   ]
  },
  {
   "cell_type": "code",
   "execution_count": 6,
   "metadata": {},
   "outputs": [
    {
     "data": {
      "text/html": [
       "<div>\n",
       "<style scoped>\n",
       "    .dataframe tbody tr th:only-of-type {\n",
       "        vertical-align: middle;\n",
       "    }\n",
       "\n",
       "    .dataframe tbody tr th {\n",
       "        vertical-align: top;\n",
       "    }\n",
       "\n",
       "    .dataframe thead th {\n",
       "        text-align: right;\n",
       "    }\n",
       "</style>\n",
       "<table border=\"1\" class=\"dataframe\">\n",
       "  <thead>\n",
       "    <tr style=\"text-align: right;\">\n",
       "      <th></th>\n",
       "      <th>Unnamed: 0</th>\n",
       "      <th>Username</th>\n",
       "      <th>Artist</th>\n",
       "      <th>Track</th>\n",
       "      <th>Album</th>\n",
       "      <th>Date</th>\n",
       "      <th>Time</th>\n",
       "    </tr>\n",
       "  </thead>\n",
       "  <tbody>\n",
       "    <tr>\n",
       "      <th>0</th>\n",
       "      <td>0</td>\n",
       "      <td>Babs_05</td>\n",
       "      <td>Isobel Campbell</td>\n",
       "      <td>The Circus Is Leaving Town</td>\n",
       "      <td>Ballad of the Broken Seas</td>\n",
       "      <td>31 Jan 2021</td>\n",
       "      <td>23:36</td>\n",
       "    </tr>\n",
       "    <tr>\n",
       "      <th>1</th>\n",
       "      <td>1</td>\n",
       "      <td>Babs_05</td>\n",
       "      <td>Isobel Campbell</td>\n",
       "      <td>Dusty Wreath</td>\n",
       "      <td>Ballad of the Broken Seas</td>\n",
       "      <td>31 Jan 2021</td>\n",
       "      <td>23:32</td>\n",
       "    </tr>\n",
       "    <tr>\n",
       "      <th>2</th>\n",
       "      <td>2</td>\n",
       "      <td>Babs_05</td>\n",
       "      <td>Isobel Campbell</td>\n",
       "      <td>Honey Child What Can I Do?</td>\n",
       "      <td>Ballad of the Broken Seas</td>\n",
       "      <td>31 Jan 2021</td>\n",
       "      <td>23:28</td>\n",
       "    </tr>\n",
       "    <tr>\n",
       "      <th>3</th>\n",
       "      <td>3</td>\n",
       "      <td>Babs_05</td>\n",
       "      <td>Isobel Campbell</td>\n",
       "      <td>It's Hard To Kill A Bad Thing</td>\n",
       "      <td>Ballad of the Broken Seas</td>\n",
       "      <td>31 Jan 2021</td>\n",
       "      <td>23:25</td>\n",
       "    </tr>\n",
       "    <tr>\n",
       "      <th>4</th>\n",
       "      <td>4</td>\n",
       "      <td>Babs_05</td>\n",
       "      <td>Isobel Campbell</td>\n",
       "      <td>Saturday's Gone</td>\n",
       "      <td>Ballad of the Broken Seas</td>\n",
       "      <td>31 Jan 2021</td>\n",
       "      <td>23:21</td>\n",
       "    </tr>\n",
       "  </tbody>\n",
       "</table>\n",
       "</div>"
      ],
      "text/plain": [
       "   Unnamed: 0 Username           Artist                          Track  \\\n",
       "0           0  Babs_05  Isobel Campbell     The Circus Is Leaving Town   \n",
       "1           1  Babs_05  Isobel Campbell                   Dusty Wreath   \n",
       "2           2  Babs_05  Isobel Campbell     Honey Child What Can I Do?   \n",
       "3           3  Babs_05  Isobel Campbell  It's Hard To Kill A Bad Thing   \n",
       "4           4  Babs_05  Isobel Campbell                Saturday's Gone   \n",
       "\n",
       "                       Album         Date    Time  \n",
       "0  Ballad of the Broken Seas  31 Jan 2021   23:36  \n",
       "1  Ballad of the Broken Seas  31 Jan 2021   23:32  \n",
       "2  Ballad of the Broken Seas  31 Jan 2021   23:28  \n",
       "3  Ballad of the Broken Seas  31 Jan 2021   23:25  \n",
       "4  Ballad of the Broken Seas  31 Jan 2021   23:21  "
      ]
     },
     "execution_count": 6,
     "metadata": {},
     "output_type": "execute_result"
    }
   ],
   "source": [
    "# Let us display the result to only three decimal points\n",
    "pd.set_option('display.float_format', lambda x: '%3f' % x)\n",
    "df = pd.read_csv('./datasets/Last.fm_data.csv')\n",
    "df.head()"
   ]
  },
  {
   "cell_type": "code",
   "execution_count": null,
   "metadata": {},
   "outputs": [],
   "source": []
  }
 ],
 "metadata": {
  "kernelspec": {
   "display_name": "Python 3 (ipykernel)",
   "language": "python",
   "name": "python3"
  },
  "language_info": {
   "codemirror_mode": {
    "name": "ipython",
    "version": 3
   },
   "file_extension": ".py",
   "mimetype": "text/x-python",
   "name": "python",
   "nbconvert_exporter": "python",
   "pygments_lexer": "ipython3",
   "version": "3.9.13"
  }
 },
 "nbformat": 4,
 "nbformat_minor": 2
}
